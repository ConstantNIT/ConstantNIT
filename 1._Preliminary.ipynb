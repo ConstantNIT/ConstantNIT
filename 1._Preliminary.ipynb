{
 "cells": [
  {
   "cell_type": "markdown",
   "metadata": {},
   "source": [
    "### Credit: jerry-git/learn-python3"
   ]
  },
  {
   "cell_type": "markdown",
   "metadata": {},
   "source": [
    "# __Best practices in development__"
   ]
  },
  {
   "cell_type": "markdown",
   "metadata": {},
   "source": [
    "# 1. __One virtual environment per project__\n",
    "<img style=\"float: left;\" src=\"img/virtualenvs.jpg\">"
   ]
  },
  {
   "cell_type": "markdown",
   "metadata": {},
   "source": [
    "### Why\n",
    "* Isolation\n",
    "* Different projects have different dependency versions\n",
    "* You don't want to mess up the system Python"
   ]
  },
  {
   "cell_type": "markdown",
   "metadata": {},
   "source": [
    "1. `pipenv`\n",
    "2. `virtualenvwrapper`\n",
    "3. `pyenv`"
   ]
  },
  {
   "cell_type": "markdown",
   "metadata": {},
   "source": [
    "# __2.Test your code__\n",
    "<img style=\"float: left;\" src=\"img/testing.png\">"
   ]
  },
  {
   "cell_type": "markdown",
   "metadata": {},
   "source": [
    "### Why\n",
    "* No surprises (especially in production)\n",
    "* Make sure that everything works as expected\n",
    "* Make sure that old stuff works as expected after introducing new features (regression)\n",
    "* Tests give you confidence while refactoring\n",
    "* Good tests demonstrate the use cases of application, i.e. they also document the implementation  \n",
    "* ..."
   ]
  },
  {
   "cell_type": "markdown",
   "metadata": {},
   "source": [
    "1. `pytest`\n",
    "2. `tox`"
   ]
  },
  {
   "cell_type": "markdown",
   "metadata": {},
   "source": [
    "# 3.Write high quality code\n",
    "<img style=\"float: left;\" src=\"img/high_quality_code.png\">"
   ]
  },
  {
   "cell_type": "markdown",
   "metadata": {},
   "source": [
    "### Why\n",
    "* Easy to read\n",
    "* Better maintainability\n",
    "* Better quality == less bugs"
   ]
  },
  {
   "cell_type": "code",
   "execution_count": 1,
   "metadata": {},
   "outputs": [
    {
     "name": "stdout",
     "output_type": "stream",
     "text": [
      "The Zen of Python, by Tim Peters\n",
      "\n",
      "Beautiful is better than ugly.\n",
      "Explicit is better than implicit.\n",
      "Simple is better than complex.\n",
      "Complex is better than complicated.\n",
      "Flat is better than nested.\n",
      "Sparse is better than dense.\n",
      "Readability counts.\n",
      "Special cases aren't special enough to break the rules.\n",
      "Although practicality beats purity.\n",
      "Errors should never pass silently.\n",
      "Unless explicitly silenced.\n",
      "In the face of ambiguity, refuse the temptation to guess.\n",
      "There should be one-- and preferably only one --obvious way to do it.\n",
      "Although that way may not be obvious at first unless you're Dutch.\n",
      "Now is better than never.\n",
      "Although never is often better than *right* now.\n",
      "If the implementation is hard to explain, it's a bad idea.\n",
      "If the implementation is easy to explain, it may be a good idea.\n",
      "Namespaces are one honking great idea -- let's do more of those!\n"
     ]
    }
   ],
   "source": [
    "import this"
   ]
  },
  {
   "cell_type": "code",
   "execution_count": null,
   "metadata": {},
   "outputs": [],
   "source": [
    "import this"
   ]
  },
  {
   "cell_type": "markdown",
   "metadata": {},
   "source": [
    "# 4. Structure your code and projects\n",
    "<img style=\"float: left;\" src=\"img/bad_code.jpg\">"
   ]
  },
  {
   "cell_type": "markdown",
   "metadata": {},
   "source": [
    "### Why\n",
    "* Package and module structure gives an overview about the project\n",
    "* Modular design == better reusability"
   ]
  },
  {
   "cell_type": "markdown",
   "metadata": {},
   "source": [
    "### How\n",
    "Some general guidelines:\n",
    "* Don't put too much stuff into one module\n",
    "* Split project into packages\n",
    "* Be consistent with your naming conventions"
   ]
  },
  {
   "cell_type": "markdown",
   "metadata": {},
   "source": [
    "# 5.Use existing solutions\n",
    "<img style=\"float: left;\" src=\"img/reinvent.jpg\">"
   ]
  },
  {
   "cell_type": "markdown",
   "metadata": {},
   "source": [
    "### Why\n",
    "* Python Standard Library is extensive - and stable!\n",
    "* There are over 150k packages in [PyPI](https://pypi.org/)\n",
    "* Someone has most likely solved the problem you're trying to solve\n",
    "* Spend 5 minutes doing a google research before starting to solve a new problem, e.g. [stackoverflow](https://stackoverflow.com/) is a magical place."
   ]
  },
  {
   "cell_type": "markdown",
   "metadata": {},
   "source": [
    "# 6.Learn how to debug efficiently\n",
    "<img style=\"float: left;\" src=\"img/debugging.jpg\">"
   ]
  },
  {
   "cell_type": "markdown",
   "metadata": {},
   "source": [
    "### Why\n",
    "* You won't write completely stable code anyway - impossible looking conditions will occur. \n",
    "* When something is not working as expected, there are plenty of tools out there to help you figure out what's going on. "
   ]
  },
  {
   "cell_type": "markdown",
   "metadata": {},
   "source": [
    "# 7.Tooling - misc"
   ]
  },
  {
   "cell_type": "markdown",
   "metadata": {},
   "source": [
    "#### Use logging instead of prints\n",
    "<img style=\"float: left;\" src=\"img/prints.jpg\">"
   ]
  },
  {
   "cell_type": "markdown",
   "metadata": {},
   "source": [
    "* [`logging`](https://docs.python.org/3/library/logging.html) is part of the Standard Library\n",
    "* With logging you can redirect the output to a file\n",
    "* Logs are usually the first place to look at after an end user reports an issue\n",
    "* You can specify the runtime level - no need to remove the debug prints"
   ]
  }
 ],
 "metadata": {
  "kernelspec": {
   "display_name": "Python 3",
   "language": "python",
   "name": "python3"
  },
  "language_info": {
   "codemirror_mode": {
    "name": "ipython",
    "version": 3
   },
   "file_extension": ".py",
   "mimetype": "text/x-python",
   "name": "python",
   "nbconvert_exporter": "python",
   "pygments_lexer": "ipython3",
   "version": "3.7.6"
  }
 },
 "nbformat": 4,
 "nbformat_minor": 4
}
